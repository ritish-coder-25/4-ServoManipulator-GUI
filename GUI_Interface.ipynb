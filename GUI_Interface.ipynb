{
 "cells": [
  {
   "cell_type": "code",
   "execution_count": null,
   "id": "fbc29654-e7dd-4091-b925-49a759e41b85",
   "metadata": {},
   "outputs": [],
   "source": [
    "import RPi.GPIO as GPIO\n",
    "import tkinter as tk\n",
    "import time"
   ]
  },
  {
   "cell_type": "code",
   "execution_count": null,
   "id": "8de2f3a1-d527-4581-a393-b37a97d91c11",
   "metadata": {},
   "outputs": [],
   "source": [
    "# Set up GPIO pins\n",
    "GPIO.setmode(GPIO.BCM)\n",
    "GPIO.setup(17, GPIO.OUT)\n",
    "GPIO.setup(18, GPIO.OUT)\n",
    "GPIO.setup(27, GPIO.OUT)\n",
    "GPIO.setup(22, GPIO.OUT)"
   ]
  },
  {
   "cell_type": "code",
   "execution_count": null,
   "id": "b0f3e03a-3fec-4579-823e-5f065c072c95",
   "metadata": {},
   "outputs": [],
   "source": [
    "# Create the GUI window\n",
    "root = tk.Tk()\n",
    "root.title(\"4-Servo Manipulator Control\")"
   ]
  },
  {
   "cell_type": "code",
   "execution_count": null,
   "id": "de29e1ed-a78f-4c12-99eb-d8da1a2b6673",
   "metadata": {},
   "outputs": [],
   "source": [
    "# Function to control the servos\n",
    "def set_servo(servo_pin, angle):\n",
    "    duty = angle / 18 + 2\n",
    "    GPIO.output(servo_pin, True)\n",
    "    pwm = GPIO.PWM(servo_pin, 50)\n",
    "    pwm.start(0)\n",
    "    pwm.ChangeDutyCycle(duty)\n",
    "    time.sleep(1)\n",
    "    GPIO.output(servo_pin, False)\n",
    "    pwm.ChangeDutyCycle(0)\n",
    "    pwm.stop()"
   ]
  },
  {
   "cell_type": "code",
   "execution_count": null,
   "id": "644a793c-8820-44d6-9405-d99fd441311b",
   "metadata": {},
   "outputs": [],
   "source": [
    "# Function to update servo angle when slider is moved\n",
    "def update_servo1(val):\n",
    "    angle = float(val)\n",
    "    set_servo(17, angle)\n",
    "\n",
    "def update_servo2(val):\n",
    "    angle = float(val)\n",
    "    set_servo(18, angle)\n",
    "\n",
    "def update_servo3(val):\n",
    "    angle = float(val)\n",
    "    set_servo(27, angle)\n",
    "\n",
    "def update_servo4(val):\n",
    "    angle = float(val)\n",
    "    set_servo(22, angle)"
   ]
  },
  {
   "cell_type": "code",
   "execution_count": null,
   "id": "58c12c4c-012d-4100-aa04-3c3f2f7f5f24",
   "metadata": {},
   "outputs": [],
   "source": [
    "# Create the sliders for controlling the servos\n",
    "servo1_slider = tk.Scale(root, from_=0, to=180, orient=tk.HORIZONTAL, label=\"Servo 1\", command=update_servo1)\n",
    "servo1_slider.pack()\n",
    "\n",
    "servo2_slider = tk.Scale(root, from_=0, to=180, orient=tk.HORIZONTAL, label=\"Servo 2\", command=update_servo2)\n",
    "servo2_slider.pack()\n",
    "\n",
    "servo3_slider = tk.Scale(root, from_=0, to=180, orient=tk.HORIZONTAL, label=\"Servo 3\", command=update_servo3)\n",
    "servo3_slider.pack()\n",
    "\n",
    "servo4_slider = tk.Scale(root, from_=0, to=180, orient=tk.HORIZONTAL, label=\"Servo 4\", command=update_servo4)\n",
    "servo4_slider.pack()"
   ]
  },
  {
   "cell_type": "code",
   "execution_count": null,
   "id": "d6d914d7-ab0a-4275-948d-b055f8346c89",
   "metadata": {},
   "outputs": [],
   "source": [
    "# Start the GUI window\n",
    "root.mainloop()\n",
    "\n",
    "# Clean up the GPIO pins\n",
    "GPIO.cleanup()"
   ]
  }
 ],
 "metadata": {
  "kernelspec": {
   "display_name": "Python 3 (ipykernel)",
   "language": "python",
   "name": "python3"
  },
  "language_info": {
   "codemirror_mode": {
    "name": "ipython",
    "version": 3
   },
   "file_extension": ".py",
   "mimetype": "text/x-python",
   "name": "python",
   "nbconvert_exporter": "python",
   "pygments_lexer": "ipython3",
   "version": "3.9.13"
  }
 },
 "nbformat": 4,
 "nbformat_minor": 5
}
