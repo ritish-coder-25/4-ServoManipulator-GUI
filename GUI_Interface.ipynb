{
 "cells": [
  {
   "cell_type": "code",
   "execution_count": 1,
   "id": "2f464da8-8d1b-469a-a588-c8e94dd30a00",
   "metadata": {},
   "outputs": [
    {
     "ename": "ModuleNotFoundError",
     "evalue": "No module named 'RPi'",
     "output_type": "error",
     "traceback": [
      "\u001b[1;31m---------------------------------------------------------------------------\u001b[0m",
      "\u001b[1;31mModuleNotFoundError\u001b[0m                       Traceback (most recent call last)",
      "\u001b[1;32m~\\AppData\\Local\\Temp\\ipykernel_3352\\2015535685.py\u001b[0m in \u001b[0;36m<module>\u001b[1;34m\u001b[0m\n\u001b[1;32m----> 1\u001b[1;33m \u001b[1;32mimport\u001b[0m \u001b[0mRPi\u001b[0m\u001b[1;33m.\u001b[0m\u001b[0mGPIO\u001b[0m \u001b[1;32mas\u001b[0m \u001b[0mGPIO\u001b[0m\u001b[1;33m\u001b[0m\u001b[1;33m\u001b[0m\u001b[0m\n\u001b[0m\u001b[0;32m      2\u001b[0m \u001b[1;32mimport\u001b[0m \u001b[0mtime\u001b[0m\u001b[1;33m\u001b[0m\u001b[1;33m\u001b[0m\u001b[0m\n\u001b[0;32m      3\u001b[0m \u001b[1;32mimport\u001b[0m \u001b[0mtkinter\u001b[0m \u001b[1;32mas\u001b[0m \u001b[0mtk\u001b[0m\u001b[1;33m\u001b[0m\u001b[1;33m\u001b[0m\u001b[0m\n",
      "\u001b[1;31mModuleNotFoundError\u001b[0m: No module named 'RPi'"
     ]
    }
   ],
   "source": [
    "import RPi.GPIO as GPIO\n",
    "import time\n",
    "import tkinter as tk"
   ]
  },
  {
   "cell_type": "code",
   "execution_count": null,
   "id": "8de2f3a1-d527-4581-a393-b37a97d91c11",
   "metadata": {},
   "outputs": [],
   "source": [
    "# Set up GPIO pins\n",
    "GPIO.setmode(GPIO.BCM)\n",
    "GPIO.setup(17, GPIO.OUT)\n",
    "GPIO.setup(18, GPIO.OUT)\n",
    "GPIO.setup(27, GPIO.OUT)\n",
    "GPIO.setup(22, GPIO.OUT)"
   ]
  },
  {
   "cell_type": "code",
   "execution_count": null,
   "id": "b0f3e03a-3fec-4579-823e-5f065c072c95",
   "metadata": {},
   "outputs": [],
   "source": [
    "# Create the GUI window\n",
    "root = tk.Tk()\n",
    "root.title(\"4-Servo Manipulator Control\")"
   ]
  },
  {
   "cell_type": "code",
   "execution_count": null,
   "id": "de29e1ed-a78f-4c12-99eb-d8da1a2b6673",
   "metadata": {},
   "outputs": [],
   "source": [
    "# Function to control the servos\n",
    "def set_servo(servo_pin, angle):\n",
    "    duty = angle / 18 + 2\n",
    "    GPIO.output(servo_pin, True)\n",
    "    pwm = GPIO.PWM(servo_pin, 50)\n",
    "    pwm.start(0)\n",
    "    pwm.ChangeDutyCycle(duty)\n",
    "    time.sleep(1)\n",
    "    GPIO.output(servo_pin, False)\n",
    "    pwm.ChangeDutyCycle(0)\n",
    "    pwm.stop()"
   ]
  },
  {
   "cell_type": "code",
   "execution_count": null,
   "id": "644a793c-8820-44d6-9405-d99fd441311b",
   "metadata": {},
   "outputs": [],
   "source": [
    "# Function to update servo angle when slider is moved\n",
    "def update_servo1(val):\n",
    "    angle = float(val)\n",
    "    set_servo(17, angle)\n",
    "\n",
    "def update_servo2(val):\n",
    "    angle = float(val)\n",
    "    set_servo(18, angle)\n",
    "\n",
    "def update_servo3(val):\n",
    "    angle = float(val)\n",
    "    set_servo(27, angle)\n",
    "\n",
    "def update_servo4(val):\n",
    "    angle = float(val)\n",
    "    set_servo(22, angle)"
   ]
  },
  {
   "cell_type": "code",
   "execution_count": null,
   "id": "58c12c4c-012d-4100-aa04-3c3f2f7f5f24",
   "metadata": {},
   "outputs": [],
   "source": [
    "# Create the sliders for controlling the servos\n",
    "servo1_slider = tk.Scale(root, from_=0, to=180, orient=tk.HORIZONTAL, label=\"Servo 1\", command=update_servo1)\n",
    "servo1_slider.pack()\n",
    "\n",
    "servo2_slider = tk.Scale(root, from_=0, to=180, orient=tk.HORIZONTAL, label=\"Servo 2\", command=update_servo2)\n",
    "servo2_slider.pack()\n",
    "\n",
    "servo3_slider = tk.Scale(root, from_=0, to=180, orient=tk.HORIZONTAL, label=\"Servo 3\", command=update_servo3)\n",
    "servo3_slider.pack()\n",
    "\n",
    "servo4_slider = tk.Scale(root, from_=0, to=180, orient=tk.HORIZONTAL, label=\"Servo 4\", command=update_servo4)\n",
    "servo4_slider.pack()"
   ]
  },
  {
   "cell_type": "code",
   "execution_count": null,
   "id": "d6d914d7-ab0a-4275-948d-b055f8346c89",
   "metadata": {},
   "outputs": [],
   "source": [
    "# Start the GUI window\n",
    "root.mainloop()\n",
    "\n",
    "# Clean up the GPIO pins\n",
    "GPIO.cleanup()"
   ]
  },
  {
   "cell_type": "code",
   "execution_count": null,
   "id": "fd25448c-8a42-463e-a472-87d363fa0085",
   "metadata": {},
   "outputs": [],
   "source": []
  },
  {
   "cell_type": "code",
   "execution_count": null,
   "id": "db66df11-4f43-4531-af8f-19e45cc10314",
   "metadata": {},
   "outputs": [],
   "source": []
  }
 ],
 "metadata": {
  "kernelspec": {
   "display_name": "Python 3 (ipykernel)",
   "language": "python",
   "name": "python3"
  },
  "language_info": {
   "codemirror_mode": {
    "name": "ipython",
    "version": 3
   },
   "file_extension": ".py",
   "mimetype": "text/x-python",
   "name": "python",
   "nbconvert_exporter": "python",
   "pygments_lexer": "ipython3",
   "version": "3.9.13"
  }
 },
 "nbformat": 4,
 "nbformat_minor": 5
}
